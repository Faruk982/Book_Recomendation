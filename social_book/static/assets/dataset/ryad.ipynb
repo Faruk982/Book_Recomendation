{
 "cells": [
  {
   "cell_type": "code",
   "execution_count": 3,
   "id": "512ec740",
   "metadata": {},
   "outputs": [],
   "source": [
    "import numpy as np\n",
    "import pandas as pd\n",
    "\n",
    "import matplotlib.pyplot as plt\n",
    "%matplotlib inline"
   ]
  },
  {
   "cell_type": "code",
   "execution_count": 6,
   "id": "0b7c5bd5",
   "metadata": {},
   "outputs": [
    {
     "name": "stdout",
     "output_type": "stream",
     "text": [
      "(68609, 9)\n"
     ]
    }
   ],
   "source": [
    "Final = pd.read_csv(\"Final_Dataset.csv\")\n",
    "print(Final.shape)"
   ]
  },
  {
   "cell_type": "code",
   "execution_count": 7,
   "id": "ca8bed68",
   "metadata": {},
   "outputs": [
    {
     "name": "stdout",
     "output_type": "stream",
     "text": [
      "Final: (68609, 9)\n"
     ]
    }
   ],
   "source": [
    "print(\"Final:\", Final.shape)"
   ]
  },
  {
   "cell_type": "code",
   "execution_count": 14,
   "id": "c5138039",
   "metadata": {},
   "outputs": [
    {
     "data": {
      "text/html": [
       "<div>\n",
       "<style scoped>\n",
       "    .dataframe tbody tr th:only-of-type {\n",
       "        vertical-align: middle;\n",
       "    }\n",
       "\n",
       "    .dataframe tbody tr th {\n",
       "        vertical-align: top;\n",
       "    }\n",
       "\n",
       "    .dataframe thead th {\n",
       "        text-align: right;\n",
       "    }\n",
       "</style>\n",
       "<table border=\"1\" class=\"dataframe\">\n",
       "  <thead>\n",
       "    <tr style=\"text-align: right;\">\n",
       "      <th></th>\n",
       "      <th>User_ID</th>\n",
       "      <th>Age</th>\n",
       "      <th>Gender</th>\n",
       "      <th>Country</th>\n",
       "      <th>Book_ID</th>\n",
       "      <th>Rating</th>\n",
       "      <th>Title</th>\n",
       "      <th>Author</th>\n",
       "      <th>Genres</th>\n",
       "    </tr>\n",
       "  </thead>\n",
       "  <tbody>\n",
       "    <tr>\n",
       "      <th>44290</th>\n",
       "      <td>44522702</td>\n",
       "      <td>28</td>\n",
       "      <td>Unknown</td>\n",
       "      <td>India</td>\n",
       "      <td>11590099</td>\n",
       "      <td>5</td>\n",
       "      <td>টেনিদা সমগ্র</td>\n",
       "      <td>Narayan Gangopadhyay</td>\n",
       "      <td>Comedy, Humor, Fiction</td>\n",
       "    </tr>\n",
       "    <tr>\n",
       "      <th>27408</th>\n",
       "      <td>89359390</td>\n",
       "      <td>30</td>\n",
       "      <td>Male</td>\n",
       "      <td>Unknown</td>\n",
       "      <td>51818561</td>\n",
       "      <td>5</td>\n",
       "      <td>পদ্মানদীর মাঝি</td>\n",
       "      <td>Manik Bandopadhyay</td>\n",
       "      <td>Fiction, Classics, Novels</td>\n",
       "    </tr>\n",
       "    <tr>\n",
       "      <th>8858</th>\n",
       "      <td>93892585</td>\n",
       "      <td>28</td>\n",
       "      <td>Male</td>\n",
       "      <td>Unknown</td>\n",
       "      <td>15996871</td>\n",
       "      <td>4</td>\n",
       "      <td>সংশপ্তক</td>\n",
       "      <td>Shahidullah Kaiser</td>\n",
       "      <td>Fiction, Classics, Novels</td>\n",
       "    </tr>\n",
       "    <tr>\n",
       "      <th>22820</th>\n",
       "      <td>3296536</td>\n",
       "      <td>39</td>\n",
       "      <td>Male</td>\n",
       "      <td>India</td>\n",
       "      <td>10416071</td>\n",
       "      <td>4</td>\n",
       "      <td>বিশ্বাসঘাতক</td>\n",
       "      <td>Narayan Sanyal</td>\n",
       "      <td>Nonfiction, Thriller, History</td>\n",
       "    </tr>\n",
       "    <tr>\n",
       "      <th>8909</th>\n",
       "      <td>96279585</td>\n",
       "      <td>24</td>\n",
       "      <td>Unknown</td>\n",
       "      <td>Unknown</td>\n",
       "      <td>17370925</td>\n",
       "      <td>4</td>\n",
       "      <td>মাধুকরী</td>\n",
       "      <td>Buddhadeb Guha</td>\n",
       "      <td>Romance, Fiction, Unfinished</td>\n",
       "    </tr>\n",
       "  </tbody>\n",
       "</table>\n",
       "</div>"
      ],
      "text/plain": [
       "        User_ID  Age   Gender  Country   Book_ID  Rating           Title  \\\n",
       "44290  44522702   28  Unknown    India  11590099       5    টেনিদা সমগ্র   \n",
       "27408  89359390   30     Male  Unknown  51818561       5  পদ্মানদীর মাঝি   \n",
       "8858   93892585   28     Male  Unknown  15996871       4         সংশপ্তক   \n",
       "22820   3296536   39     Male    India  10416071       4     বিশ্বাসঘাতক   \n",
       "8909   96279585   24  Unknown  Unknown  17370925       4         মাধুকরী   \n",
       "\n",
       "                     Author                         Genres  \n",
       "44290  Narayan Gangopadhyay         Comedy, Humor, Fiction  \n",
       "27408    Manik Bandopadhyay      Fiction, Classics, Novels  \n",
       "8858     Shahidullah Kaiser      Fiction, Classics, Novels  \n",
       "22820        Narayan Sanyal  Nonfiction, Thriller, History  \n",
       "8909         Buddhadeb Guha   Romance, Fiction, Unfinished  "
      ]
     },
     "execution_count": 14,
     "metadata": {},
     "output_type": "execute_result"
    }
   ],
   "source": [
    "Final.sample(5)"
   ]
  },
  {
   "cell_type": "code",
   "execution_count": 13,
   "id": "66a9e960",
   "metadata": {},
   "outputs": [
    {
     "data": {
      "text/plain": [
       "User_ID    0\n",
       "Age        0\n",
       "Gender     0\n",
       "Country    0\n",
       "Book_ID    0\n",
       "Rating     0\n",
       "Title      0\n",
       "Author     0\n",
       "Genres     0\n",
       "dtype: int64"
      ]
     },
     "execution_count": 13,
     "metadata": {},
     "output_type": "execute_result"
    }
   ],
   "source": [
    "Final.isnull().sum()"
   ]
  },
  {
   "cell_type": "code",
   "execution_count": 12,
   "id": "ac02c253",
   "metadata": {},
   "outputs": [],
   "source": [
    "Final['Gender'] = Final['Gender'].fillna('Unknown') \n",
    "Final['Country'] = Final['Country'].fillna('Unknown')\n",
    "Final = Final.dropna(subset=['Title','Author'])\n",
    "Final['Genres'] = Final['Genres'].fillna('Unknown')\n",
    "Final['Age'] = Final['Age'].apply(lambda x: x if x > 0 else 0)\n",
    "Final['Age'] = Final['Age'].fillna(Final['Age'].median())\n",
    "Final['Age'] = Final['Age'].astype(int)\n",
    "Final = Final.drop_duplicates()"
   ]
  },
  {
   "cell_type": "code",
   "execution_count": null,
   "id": "7bdc9cfa",
   "metadata": {},
   "outputs": [],
   "source": [
    "Final.to_csv('Final_Dataset.csv', index=False, encoding='utf-8')"
   ]
  },
  {
   "cell_type": "code",
   "execution_count": null,
   "id": "38e1b1f5",
   "metadata": {},
   "outputs": [],
   "source": []
  },
  {
   "cell_type": "code",
   "execution_count": null,
   "id": "7792dbbe",
   "metadata": {},
   "outputs": [],
   "source": []
  }
 ],
 "metadata": {
  "kernelspec": {
   "display_name": "Python 3",
   "language": "python",
   "name": "python3"
  },
  "language_info": {
   "codemirror_mode": {
    "name": "ipython",
    "version": 3
   },
   "file_extension": ".py",
   "mimetype": "text/x-python",
   "name": "python",
   "nbconvert_exporter": "python",
   "pygments_lexer": "ipython3",
   "version": "3.12.3"
  }
 },
 "nbformat": 4,
 "nbformat_minor": 5
}
